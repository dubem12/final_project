{
 "cells": [
  {
   "cell_type": "code",
   "execution_count": 2,
   "id": "7432ceac",
   "metadata": {},
   "outputs": [],
   "source": [
    "import pandas as pd\n",
    "import numpy as np\n"
   ]
  },
  {
   "cell_type": "code",
   "execution_count": 3,
   "id": "0faa9b89",
   "metadata": {},
   "outputs": [],
   "source": [
    "#read the excel\n",
    "df = pd.read_csv('../data/raw/first_clean.csv')"
   ]
  },
  {
   "cell_type": "code",
   "execution_count": 4,
   "id": "d4b79d17",
   "metadata": {},
   "outputs": [
    {
     "data": {
      "text/html": [
       "<div>\n",
       "<style scoped>\n",
       "    .dataframe tbody tr th:only-of-type {\n",
       "        vertical-align: middle;\n",
       "    }\n",
       "\n",
       "    .dataframe tbody tr th {\n",
       "        vertical-align: top;\n",
       "    }\n",
       "\n",
       "    .dataframe thead th {\n",
       "        text-align: right;\n",
       "    }\n",
       "</style>\n",
       "<table border=\"1\" class=\"dataframe\">\n",
       "  <thead>\n",
       "    <tr style=\"text-align: right;\">\n",
       "      <th></th>\n",
       "      <th>id</th>\n",
       "      <th>bedrooms</th>\n",
       "      <th>bathrooms</th>\n",
       "      <th>floors</th>\n",
       "      <th>waterfront</th>\n",
       "      <th>view</th>\n",
       "      <th>condition</th>\n",
       "      <th>grade</th>\n",
       "      <th>sqft_above</th>\n",
       "      <th>sqft_basement</th>\n",
       "      <th>yr_built</th>\n",
       "      <th>yr_renovated</th>\n",
       "      <th>zipcode</th>\n",
       "      <th>lat</th>\n",
       "      <th>long</th>\n",
       "      <th>sqft_living15</th>\n",
       "      <th>sqft_lot15</th>\n",
       "      <th>price</th>\n",
       "    </tr>\n",
       "  </thead>\n",
       "  <tbody>\n",
       "    <tr>\n",
       "      <th>0</th>\n",
       "      <td>7129300520</td>\n",
       "      <td>3</td>\n",
       "      <td>1.00</td>\n",
       "      <td>1.0</td>\n",
       "      <td>0</td>\n",
       "      <td>0</td>\n",
       "      <td>3</td>\n",
       "      <td>7</td>\n",
       "      <td>1180</td>\n",
       "      <td>0</td>\n",
       "      <td>1955</td>\n",
       "      <td>0</td>\n",
       "      <td>98178</td>\n",
       "      <td>47.5112</td>\n",
       "      <td>-122.257</td>\n",
       "      <td>1340</td>\n",
       "      <td>5650</td>\n",
       "      <td>221900</td>\n",
       "    </tr>\n",
       "    <tr>\n",
       "      <th>1</th>\n",
       "      <td>6414100192</td>\n",
       "      <td>3</td>\n",
       "      <td>2.25</td>\n",
       "      <td>2.0</td>\n",
       "      <td>0</td>\n",
       "      <td>0</td>\n",
       "      <td>3</td>\n",
       "      <td>7</td>\n",
       "      <td>2170</td>\n",
       "      <td>400</td>\n",
       "      <td>1951</td>\n",
       "      <td>1991</td>\n",
       "      <td>98125</td>\n",
       "      <td>47.7210</td>\n",
       "      <td>-122.319</td>\n",
       "      <td>1690</td>\n",
       "      <td>7639</td>\n",
       "      <td>538000</td>\n",
       "    </tr>\n",
       "    <tr>\n",
       "      <th>2</th>\n",
       "      <td>5631500400</td>\n",
       "      <td>2</td>\n",
       "      <td>1.00</td>\n",
       "      <td>1.0</td>\n",
       "      <td>0</td>\n",
       "      <td>0</td>\n",
       "      <td>3</td>\n",
       "      <td>6</td>\n",
       "      <td>770</td>\n",
       "      <td>0</td>\n",
       "      <td>1933</td>\n",
       "      <td>0</td>\n",
       "      <td>98028</td>\n",
       "      <td>47.7379</td>\n",
       "      <td>-122.233</td>\n",
       "      <td>2720</td>\n",
       "      <td>8062</td>\n",
       "      <td>180000</td>\n",
       "    </tr>\n",
       "    <tr>\n",
       "      <th>3</th>\n",
       "      <td>2487200875</td>\n",
       "      <td>4</td>\n",
       "      <td>3.00</td>\n",
       "      <td>1.0</td>\n",
       "      <td>0</td>\n",
       "      <td>0</td>\n",
       "      <td>5</td>\n",
       "      <td>7</td>\n",
       "      <td>1050</td>\n",
       "      <td>910</td>\n",
       "      <td>1965</td>\n",
       "      <td>0</td>\n",
       "      <td>98136</td>\n",
       "      <td>47.5208</td>\n",
       "      <td>-122.393</td>\n",
       "      <td>1360</td>\n",
       "      <td>5000</td>\n",
       "      <td>604000</td>\n",
       "    </tr>\n",
       "    <tr>\n",
       "      <th>4</th>\n",
       "      <td>1954400510</td>\n",
       "      <td>3</td>\n",
       "      <td>2.00</td>\n",
       "      <td>1.0</td>\n",
       "      <td>0</td>\n",
       "      <td>0</td>\n",
       "      <td>3</td>\n",
       "      <td>8</td>\n",
       "      <td>1680</td>\n",
       "      <td>0</td>\n",
       "      <td>1987</td>\n",
       "      <td>0</td>\n",
       "      <td>98074</td>\n",
       "      <td>47.6168</td>\n",
       "      <td>-122.045</td>\n",
       "      <td>1800</td>\n",
       "      <td>7503</td>\n",
       "      <td>510000</td>\n",
       "    </tr>\n",
       "  </tbody>\n",
       "</table>\n",
       "</div>"
      ],
      "text/plain": [
       "           id  bedrooms  bathrooms  floors  waterfront  view  condition  \\\n",
       "0  7129300520         3       1.00     1.0           0     0          3   \n",
       "1  6414100192         3       2.25     2.0           0     0          3   \n",
       "2  5631500400         2       1.00     1.0           0     0          3   \n",
       "3  2487200875         4       3.00     1.0           0     0          5   \n",
       "4  1954400510         3       2.00     1.0           0     0          3   \n",
       "\n",
       "   grade  sqft_above  sqft_basement  yr_built  yr_renovated  zipcode      lat  \\\n",
       "0      7        1180              0      1955             0    98178  47.5112   \n",
       "1      7        2170            400      1951          1991    98125  47.7210   \n",
       "2      6         770              0      1933             0    98028  47.7379   \n",
       "3      7        1050            910      1965             0    98136  47.5208   \n",
       "4      8        1680              0      1987             0    98074  47.6168   \n",
       "\n",
       "      long  sqft_living15  sqft_lot15   price  \n",
       "0 -122.257           1340        5650  221900  \n",
       "1 -122.319           1690        7639  538000  \n",
       "2 -122.233           2720        8062  180000  \n",
       "3 -122.393           1360        5000  604000  \n",
       "4 -122.045           1800        7503  510000  "
      ]
     },
     "execution_count": 4,
     "metadata": {},
     "output_type": "execute_result"
    }
   ],
   "source": [
    "df.head()"
   ]
  },
  {
   "cell_type": "code",
   "execution_count": 5,
   "id": "b3a5a20f",
   "metadata": {},
   "outputs": [
    {
     "data": {
      "text/plain": [
       "sqft_basement\n",
       "0      13110\n",
       "600      221\n",
       "700      218\n",
       "500      214\n",
       "800      206\n",
       "       ...  \n",
       "518        1\n",
       "374        1\n",
       "784        1\n",
       "906        1\n",
       "248        1\n",
       "Name: count, Length: 306, dtype: int64"
      ]
     },
     "execution_count": 5,
     "metadata": {},
     "output_type": "execute_result"
    }
   ],
   "source": [
    "df['sqft_basement'].value_counts()"
   ]
  },
  {
   "cell_type": "code",
   "execution_count": 7,
   "id": "51fb0bf1",
   "metadata": {},
   "outputs": [
    {
     "data": {
      "text/plain": [
       "0"
      ]
     },
     "metadata": {},
     "output_type": "display_data"
    },
    {
     "data": {
      "text/plain": [
       "4820"
      ]
     },
     "metadata": {},
     "output_type": "display_data"
    }
   ],
   "source": [
    "#check min max in sqft_basement\n",
    "display(df['sqft_basement'].min())\n",
    "display(df['sqft_basement'].max())"
   ]
  },
  {
   "cell_type": "code",
   "execution_count": 8,
   "id": "514ce39f",
   "metadata": {},
   "outputs": [
    {
     "data": {
      "text/plain": [
       "count    21597.000000\n",
       "mean       291.725008\n",
       "std        442.667800\n",
       "min          0.000000\n",
       "25%          0.000000\n",
       "50%          0.000000\n",
       "75%        560.000000\n",
       "max       4820.000000\n",
       "Name: sqft_basement, dtype: float64"
      ]
     },
     "execution_count": 8,
     "metadata": {},
     "output_type": "execute_result"
    }
   ],
   "source": [
    "df['sqft_basement'].describe()"
   ]
  },
  {
   "cell_type": "markdown",
   "id": "90b8fbaf",
   "metadata": {},
   "source": [
    "## dealing with basement\n",
    "majority of the data set has no basement. so we will categorize basement depending on space\n",
    "with 3 bins"
   ]
  },
  {
   "cell_type": "code",
   "execution_count": 13,
   "id": "3c201c3f",
   "metadata": {},
   "outputs": [],
   "source": [
    "#create a new column to categorize the sqft_basement , if sqft_basement is 0, assign 1, if it´s between 1-500 assign 2,between 500-1000 assign3, above 1000 assign 4 \n",
    "df['sqft_basement_cat'] = df['sqft_basement'].apply(lambda x: 1 if x == 0 else (2 if x < 500 else (3 if x < 1000 else 4)))"
   ]
  },
  {
   "cell_type": "markdown",
   "id": "8fa802cd",
   "metadata": {},
   "source": [
    "NOW WE CONCENTRATE ON SPLITTING NUMERICAL AND CATEGORICAL DATA\n",
    "\n"
   ]
  },
  {
   "cell_type": "code",
   "execution_count": 14,
   "id": "96dd62aa",
   "metadata": {},
   "outputs": [
    {
     "data": {
      "text/html": [
       "<div>\n",
       "<style scoped>\n",
       "    .dataframe tbody tr th:only-of-type {\n",
       "        vertical-align: middle;\n",
       "    }\n",
       "\n",
       "    .dataframe tbody tr th {\n",
       "        vertical-align: top;\n",
       "    }\n",
       "\n",
       "    .dataframe thead th {\n",
       "        text-align: right;\n",
       "    }\n",
       "</style>\n",
       "<table border=\"1\" class=\"dataframe\">\n",
       "  <thead>\n",
       "    <tr style=\"text-align: right;\">\n",
       "      <th></th>\n",
       "      <th>id</th>\n",
       "      <th>sqft_above</th>\n",
       "      <th>sqft_lot15</th>\n",
       "      <th>sqft_living15</th>\n",
       "    </tr>\n",
       "  </thead>\n",
       "  <tbody>\n",
       "    <tr>\n",
       "      <th>0</th>\n",
       "      <td>7129300520</td>\n",
       "      <td>1180</td>\n",
       "      <td>5650</td>\n",
       "      <td>1340</td>\n",
       "    </tr>\n",
       "    <tr>\n",
       "      <th>1</th>\n",
       "      <td>6414100192</td>\n",
       "      <td>2170</td>\n",
       "      <td>7639</td>\n",
       "      <td>1690</td>\n",
       "    </tr>\n",
       "    <tr>\n",
       "      <th>2</th>\n",
       "      <td>5631500400</td>\n",
       "      <td>770</td>\n",
       "      <td>8062</td>\n",
       "      <td>2720</td>\n",
       "    </tr>\n",
       "    <tr>\n",
       "      <th>3</th>\n",
       "      <td>2487200875</td>\n",
       "      <td>1050</td>\n",
       "      <td>5000</td>\n",
       "      <td>1360</td>\n",
       "    </tr>\n",
       "    <tr>\n",
       "      <th>4</th>\n",
       "      <td>1954400510</td>\n",
       "      <td>1680</td>\n",
       "      <td>7503</td>\n",
       "      <td>1800</td>\n",
       "    </tr>\n",
       "  </tbody>\n",
       "</table>\n",
       "</div>"
      ],
      "text/plain": [
       "           id  sqft_above  sqft_lot15  sqft_living15\n",
       "0  7129300520        1180        5650           1340\n",
       "1  6414100192        2170        7639           1690\n",
       "2  5631500400         770        8062           2720\n",
       "3  2487200875        1050        5000           1360\n",
       "4  1954400510        1680        7503           1800"
      ]
     },
     "execution_count": 14,
     "metadata": {},
     "output_type": "execute_result"
    }
   ],
   "source": [
    "#pick 'bedrooms', 'bathrooms', 'sqft_living', 'sqft_above', 'sqft_lot', 'floors',sqft_lot15,'sqft_living15', price as numerical variables\n",
    "\n",
    "numericals = df[['id', 'sqft_above','sqft_lot15','sqft_living15']]\n",
    "numericals.head()"
   ]
  },
  {
   "cell_type": "code",
   "execution_count": 15,
   "id": "f4d1c08e",
   "metadata": {},
   "outputs": [],
   "source": [
    "#pick 'waterfront', 'view', 'condition', 'grade', 'yr_built', 'yr_renovated' as categorical variables\n",
    "\n",
    "categoricals = df[['id','waterfront', 'view', 'condition', 'grade', 'yr_built', 'yr_renovated', 'zipcode', 'lat', 'long','bedrooms', 'bathrooms', 'sqft_basement_cat','floors']]"
   ]
  },
  {
   "cell_type": "code",
   "execution_count": 16,
   "id": "97a67fe0",
   "metadata": {},
   "outputs": [],
   "source": [
    "target = df[['id','price']] "
   ]
  },
  {
   "cell_type": "markdown",
   "id": "27b4b434",
   "metadata": {},
   "source": [
    "## Working on numericals\n",
    "\n",
    "For numerical data, we will: <br>\n",
    "i. check and correct skewness and outliers <br>\n",
    "ii. check multicollinearity <br>\n",
    "\n",
    "Rule of thumb :\n",
    "If the skewness is between -0.5 & 0.5, the data are nearly symmetrical.\n",
    "If the skewness is between -1 & -0.5 (negative skewed) or between 0.5 & 1(positive skewed), the data are slightly skewed.\n",
    "If the skewness is lower than -1 (negative skewed) or greater than 1 (positive skewed), the data are extremely skewed.\n"
   ]
  },
  {
   "cell_type": "code",
   "execution_count": 17,
   "id": "efece31f",
   "metadata": {},
   "outputs": [],
   "source": [
    "#check the distribution of the numerical variables\n",
    "import matplotlib.pyplot as plt\n",
    "import seaborn as sns\n",
    "\n"
   ]
  },
  {
   "cell_type": "code",
   "execution_count": 18,
   "id": "6bd67b89",
   "metadata": {},
   "outputs": [
    {
     "data": {
      "text/plain": [
       "Index(['id', 'sqft_above', 'sqft_lot15', 'sqft_living15'], dtype='object')"
      ]
     },
     "execution_count": 18,
     "metadata": {},
     "output_type": "execute_result"
    }
   ],
   "source": [
    "numericals.columns"
   ]
  },
  {
   "cell_type": "code",
   "execution_count": 19,
   "id": "adcfdea5",
   "metadata": {},
   "outputs": [],
   "source": [
    "numericalscopy = numericals.copy()"
   ]
  },
  {
   "cell_type": "code",
   "execution_count": 20,
   "id": "4c3fda32",
   "metadata": {},
   "outputs": [
    {
     "name": "stderr",
     "output_type": "stream",
     "text": [
      "C:\\Users\\Lenovo\\AppData\\Local\\Temp\\ipykernel_13280\\1530322302.py:2: SettingWithCopyWarning: \n",
      "A value is trying to be set on a copy of a slice from a DataFrame\n",
      "\n",
      "See the caveats in the documentation: https://pandas.pydata.org/pandas-docs/stable/user_guide/indexing.html#returning-a-view-versus-a-copy\n",
      "  numericals.drop(columns='id',inplace=True)\n"
     ]
    }
   ],
   "source": [
    "#drop id column\n",
    "numericals.drop(columns='id',inplace=True)"
   ]
  },
  {
   "cell_type": "code",
   "execution_count": 21,
   "id": "c65f1498",
   "metadata": {},
   "outputs": [
    {
     "data": {
      "text/html": [
       "<div>\n",
       "<style scoped>\n",
       "    .dataframe tbody tr th:only-of-type {\n",
       "        vertical-align: middle;\n",
       "    }\n",
       "\n",
       "    .dataframe tbody tr th {\n",
       "        vertical-align: top;\n",
       "    }\n",
       "\n",
       "    .dataframe thead th {\n",
       "        text-align: right;\n",
       "    }\n",
       "</style>\n",
       "<table border=\"1\" class=\"dataframe\">\n",
       "  <thead>\n",
       "    <tr style=\"text-align: right;\">\n",
       "      <th></th>\n",
       "      <th>count</th>\n",
       "      <th>mean</th>\n",
       "      <th>std</th>\n",
       "      <th>min</th>\n",
       "      <th>25%</th>\n",
       "      <th>50%</th>\n",
       "      <th>75%</th>\n",
       "      <th>max</th>\n",
       "    </tr>\n",
       "  </thead>\n",
       "  <tbody>\n",
       "    <tr>\n",
       "      <th>sqft_above</th>\n",
       "      <td>21597.0</td>\n",
       "      <td>1788.596842</td>\n",
       "      <td>827.759761</td>\n",
       "      <td>370.0</td>\n",
       "      <td>1190.0</td>\n",
       "      <td>1560.0</td>\n",
       "      <td>2210.0</td>\n",
       "      <td>9410.0</td>\n",
       "    </tr>\n",
       "    <tr>\n",
       "      <th>sqft_lot15</th>\n",
       "      <td>21597.0</td>\n",
       "      <td>12758.283512</td>\n",
       "      <td>27274.441950</td>\n",
       "      <td>651.0</td>\n",
       "      <td>5100.0</td>\n",
       "      <td>7620.0</td>\n",
       "      <td>10083.0</td>\n",
       "      <td>871200.0</td>\n",
       "    </tr>\n",
       "    <tr>\n",
       "      <th>sqft_living15</th>\n",
       "      <td>21597.0</td>\n",
       "      <td>1986.620318</td>\n",
       "      <td>685.230472</td>\n",
       "      <td>399.0</td>\n",
       "      <td>1490.0</td>\n",
       "      <td>1840.0</td>\n",
       "      <td>2360.0</td>\n",
       "      <td>6210.0</td>\n",
       "    </tr>\n",
       "  </tbody>\n",
       "</table>\n",
       "</div>"
      ],
      "text/plain": [
       "                 count          mean           std    min     25%     50%  \\\n",
       "sqft_above     21597.0   1788.596842    827.759761  370.0  1190.0  1560.0   \n",
       "sqft_lot15     21597.0  12758.283512  27274.441950  651.0  5100.0  7620.0   \n",
       "sqft_living15  21597.0   1986.620318    685.230472  399.0  1490.0  1840.0   \n",
       "\n",
       "                   75%       max  \n",
       "sqft_above      2210.0    9410.0  \n",
       "sqft_lot15     10083.0  871200.0  \n",
       "sqft_living15   2360.0    6210.0  "
      ]
     },
     "execution_count": 21,
     "metadata": {},
     "output_type": "execute_result"
    }
   ],
   "source": [
    "numericals.describe().T"
   ]
  },
  {
   "cell_type": "code",
   "execution_count": 22,
   "id": "baf7de66",
   "metadata": {},
   "outputs": [
    {
     "data": {
      "text/html": [
       "<div>\n",
       "<style scoped>\n",
       "    .dataframe tbody tr th:only-of-type {\n",
       "        vertical-align: middle;\n",
       "    }\n",
       "\n",
       "    .dataframe tbody tr th {\n",
       "        vertical-align: top;\n",
       "    }\n",
       "\n",
       "    .dataframe thead th {\n",
       "        text-align: right;\n",
       "    }\n",
       "</style>\n",
       "<table border=\"1\" class=\"dataframe\">\n",
       "  <thead>\n",
       "    <tr style=\"text-align: right;\">\n",
       "      <th></th>\n",
       "      <th>min</th>\n",
       "      <th>max</th>\n",
       "    </tr>\n",
       "  </thead>\n",
       "  <tbody>\n",
       "    <tr>\n",
       "      <th>sqft_above</th>\n",
       "      <td>370.0</td>\n",
       "      <td>9410.0</td>\n",
       "    </tr>\n",
       "    <tr>\n",
       "      <th>sqft_lot15</th>\n",
       "      <td>651.0</td>\n",
       "      <td>871200.0</td>\n",
       "    </tr>\n",
       "    <tr>\n",
       "      <th>sqft_living15</th>\n",
       "      <td>399.0</td>\n",
       "      <td>6210.0</td>\n",
       "    </tr>\n",
       "  </tbody>\n",
       "</table>\n",
       "</div>"
      ],
      "text/plain": [
       "                 min       max\n",
       "sqft_above     370.0    9410.0\n",
       "sqft_lot15     651.0  871200.0\n",
       "sqft_living15  399.0    6210.0"
      ]
     },
     "execution_count": 22,
     "metadata": {},
     "output_type": "execute_result"
    }
   ],
   "source": [
    "#check min max\n",
    "numericals.describe().T[['min','max']]"
   ]
  },
  {
   "cell_type": "markdown",
   "id": "bb8f5a45",
   "metadata": {},
   "source": [
    "we havbe a wide range and that can mess up our linear model, so as a result, we need to transform to a similar range"
   ]
  },
  {
   "cell_type": "code",
   "execution_count": 23,
   "id": "0b7ead6a",
   "metadata": {},
   "outputs": [],
   "source": [
    "def plot(df, column_name):\n",
    "    fig, ax = plt.subplots(1, 2, figsize=(10, 5))\n",
    "    sns.boxplot(df[column_name], ax=ax[0])\n",
    "    sns.histplot(df, x=column_name, bins=50, ax=ax[1])\n",
    "    plt.show()\n"
   ]
  },
  {
   "cell_type": "markdown",
   "id": "52f44da4",
   "metadata": {},
   "source": [
    "for skewness"
   ]
  },
  {
   "cell_type": "code",
   "execution_count": 24,
   "id": "8fb6b66b",
   "metadata": {},
   "outputs": [],
   "source": [
    "#define function to check skewness\n",
    "def check_skewness(df, column_name):\n",
    "    return df[column_name].skew()"
   ]
  },
  {
   "cell_type": "code",
   "execution_count": 25,
   "id": "9f99aa21",
   "metadata": {},
   "outputs": [
    {
     "data": {
      "image/png": "[encoded data removed]",
      "text/plain": [
       "<Figure size 1000x500 with 2 Axes>"
      ]
     },
     "metadata": {},
     "output_type": "display_data"
    },
    {
     "data": {
      "text/plain": [
       "1.4474342353857224"
      ]
     },
     "execution_count": 25,
     "metadata": {},
     "output_type": "execute_result"
    }
   ],
   "source": [
    "#sqft_above\n",
    "plot(numericals, 'sqft_above')\n",
    "check_skewness(numericals, 'sqft_above')"
   ]
  },
  {
   "cell_type": "markdown",
   "id": "a2146ad8",
   "metadata": {},
   "source": [
    "the skewness score is 1.4474 , the distribution is also heavily skewed. We also address the outliers"
   ]
  },
  {
   "cell_type": "code",
   "execution_count": 28,
   "id": "1d58fa31",
   "metadata": {},
   "outputs": [
    {
     "data": {
      "image/png": "[encoded data removed]",
      "text/plain": [
       "<Figure size 1000x500 with 2 Axes>"
      ]
     },
     "metadata": {},
     "output_type": "display_data"
    },
    {
     "data": {
      "text/plain": [
       "9.524361965117942"
      ]
     },
     "execution_count": 28,
     "metadata": {},
     "output_type": "execute_result"
    }
   ],
   "source": [
    "#sqft_lot15\n",
    "plot(numericals, 'sqft_lot15')\n",
    "check_skewness(numericals, 'sqft_lot15')\n"
   ]
  },
  {
   "cell_type": "markdown",
   "id": "b4d1a6f4",
   "metadata": {},
   "source": [
    "extremely skewed, lots of outliers. we will work on both"
   ]
  },
  {
   "cell_type": "code",
   "execution_count": 29,
   "id": "30d2893a",
   "metadata": {},
   "outputs": [
    {
     "data": {
      "image/png": "[encoded data removed]",
      "text/plain": [
       "<Figure size 1000x500 with 2 Axes>"
      ]
     },
     "metadata": {},
     "output_type": "display_data"
    },
    {
     "data": {
      "text/plain": [
       "1.1068753971161713"
      ]
     },
     "execution_count": 29,
     "metadata": {},
     "output_type": "execute_result"
    }
   ],
   "source": [
    "#sqft_living15\n",
    "plot(numericals, 'sqft_living15')\n",
    "check_skewness(numericals, 'sqft_living15')"
   ]
  },
  {
   "cell_type": "markdown",
   "id": "5e5b8191",
   "metadata": {},
   "source": [
    "## correcting skewness and outliers"
   ]
  },
  {
   "cell_type": "markdown",
   "id": "5f677ea9",
   "metadata": {},
   "source": [
    "we are going to take two approaches, \n",
    "1. drop outliers first before correcting skewness\n",
    "2. only correct skewness"
   ]
  },
  {
   "cell_type": "code",
   "execution_count": 30,
   "id": "c6e4ac39",
   "metadata": {},
   "outputs": [],
   "source": [
    "numericals2 = numericals.copy()"
   ]
  },
  {
   "cell_type": "code",
   "execution_count": 31,
   "id": "818518fc",
   "metadata": {},
   "outputs": [],
   "source": [
    "numericals3 = numericals.copy()"
   ]
  },
  {
   "cell_type": "code",
   "execution_count": 39,
   "id": "c3446ef1",
   "metadata": {},
   "outputs": [],
   "source": [
    "def remove_outliers(data, column_name):\n",
    "    '''\n",
    "    This function takes a dataframe and a list of columns and returns a dataframe without outliers\n",
    "\n",
    "    Parameters:\n",
    "    data: dataframe\n",
    "    list: list of columns\n",
    "\n",
    "    returns:\n",
    "    new dataframe without outliers\n",
    "    '''\n",
    "    for column in column_name:\n",
    "        iqr = np.percentile(data[column],75) - np.percentile(data[column],25)\n",
    "        upper_whisker = np.percentile(data[column],75) + 1.5*iqr\n",
    "        lower_whisker = np.percentile(data[column],25) - 1.5*iqr\n",
    "        data = data[(data[column]<upper_whisker) & (data[column]>lower_whisker)]\n",
    "    return data"
   ]
  },
  {
   "cell_type": "code",
   "execution_count": 36,
   "id": "6598608f",
   "metadata": {},
   "outputs": [
    {
     "data": {
      "text/html": [
       "<div>\n",
       "<style scoped>\n",
       "    .dataframe tbody tr th:only-of-type {\n",
       "        vertical-align: middle;\n",
       "    }\n",
       "\n",
       "    .dataframe tbody tr th {\n",
       "        vertical-align: top;\n",
       "    }\n",
       "\n",
       "    .dataframe thead th {\n",
       "        text-align: right;\n",
       "    }\n",
       "</style>\n",
       "<table border=\"1\" class=\"dataframe\">\n",
       "  <thead>\n",
       "    <tr style=\"text-align: right;\">\n",
       "      <th></th>\n",
       "      <th>sqft_above</th>\n",
       "      <th>sqft_lot15</th>\n",
       "      <th>sqft_living15</th>\n",
       "    </tr>\n",
       "  </thead>\n",
       "  <tbody>\n",
       "    <tr>\n",
       "      <th>0</th>\n",
       "      <td>1180</td>\n",
       "      <td>5650</td>\n",
       "      <td>1340</td>\n",
       "    </tr>\n",
       "    <tr>\n",
       "      <th>1</th>\n",
       "      <td>2170</td>\n",
       "      <td>7639</td>\n",
       "      <td>1690</td>\n",
       "    </tr>\n",
       "    <tr>\n",
       "      <th>2</th>\n",
       "      <td>770</td>\n",
       "      <td>8062</td>\n",
       "      <td>2720</td>\n",
       "    </tr>\n",
       "    <tr>\n",
       "      <th>3</th>\n",
       "      <td>1050</td>\n",
       "      <td>5000</td>\n",
       "      <td>1360</td>\n",
       "    </tr>\n",
       "    <tr>\n",
       "      <th>4</th>\n",
       "      <td>1680</td>\n",
       "      <td>7503</td>\n",
       "      <td>1800</td>\n",
       "    </tr>\n",
       "  </tbody>\n",
       "</table>\n",
       "</div>"
      ],
      "text/plain": [
       "   sqft_above  sqft_lot15  sqft_living15\n",
       "0        1180        5650           1340\n",
       "1        2170        7639           1690\n",
       "2         770        8062           2720\n",
       "3        1050        5000           1360\n",
       "4        1680        7503           1800"
      ]
     },
     "execution_count": 36,
     "metadata": {},
     "output_type": "execute_result"
    }
   ],
   "source": [
    "numericals2.head()"
   ]
  },
  {
   "cell_type": "code",
   "execution_count": 41,
   "id": "58a786d2",
   "metadata": {},
   "outputs": [],
   "source": [
    "numericals_out=remove_outliers(numericals2, ['sqft_above','sqft_lot15','sqft_living15'])"
   ]
  },
  {
   "cell_type": "markdown",
   "id": "2b4561cb",
   "metadata": {},
   "source": [
    "remove outlier and then check skewness"
   ]
  },
  {
   "cell_type": "code",
   "execution_count": 42,
   "id": "b53f5eaf",
   "metadata": {},
   "outputs": [
    {
     "data": {
      "text/plain": [
       "(18610, 3)"
      ]
     },
     "execution_count": 42,
     "metadata": {},
     "output_type": "execute_result"
    }
   ],
   "source": [
    "numericals_out.shape"
   ]
  },
  {
   "cell_type": "code",
   "execution_count": 45,
   "id": "c1b44da4",
   "metadata": {},
   "outputs": [
    {
     "data": {
      "image/png": "[encoded data removed]",
      "text/plain": [
       "<Figure size 1500x1000 with 3 Axes>"
      ]
     },
     "metadata": {},
     "output_type": "display_data"
    }
   ],
   "source": [
    "#get boxplot for all the numerical variables, in a grid of 2 rows and 3 columns\n",
    "fig, ax = plt.subplots(1, 3, figsize=(15, 10))\n",
    "for variable, subplot in zip(numericals_out, ax.flatten()):\n",
    "    sns.boxplot(numericals_out[variable], ax=subplot)\n"
   ]
  },
  {
   "cell_type": "code",
   "execution_count": 48,
   "id": "6120fd54",
   "metadata": {},
   "outputs": [],
   "source": [
    "numericals4 = numericals.copy()"
   ]
  },
  {
   "cell_type": "code",
   "execution_count": 46,
   "id": "edc98d91",
   "metadata": {},
   "outputs": [],
   "source": [
    "def remove_outliers_iqr(data, columns, threshold=1.5):\n",
    "    \"\"\"\n",
    "    Remove outliers from specified columns using the IQR method.\n",
    "\n",
    "    Parameters:\n",
    "    - data: DataFrame\n",
    "        The input DataFrame containing the data.\n",
    "    - columns: list\n",
    "        A list of column names where outliers should be removed.\n",
    "    - threshold: float, optional\n",
    "        The threshold value for detecting outliers. The default is 1.5, which is a common choice.\n",
    "\n",
    "    Returns:\n",
    "    - DataFrame\n",
    "        A new DataFrame with outliers removed from the specified columns.\n",
    "    \"\"\"\n",
    "\n",
    "    # Create a copy of the input data\n",
    "    data_cleaned = data.copy()\n",
    "\n",
    "    for column in columns:\n",
    "        # Calculate the IQR for the current column\n",
    "        Q1 = data[column].quantile(0.25)\n",
    "        Q3 = data[column].quantile(0.75)\n",
    "        IQR = Q3 - Q1\n",
    "\n",
    "        # Define the lower and upper bounds for outliers\n",
    "        lower_bound = Q1 - threshold * IQR\n",
    "        upper_bound = Q3 + threshold * IQR\n",
    "\n",
    "        # Remove outliers outside the defined bounds\n",
    "        data_cleaned = data_cleaned[(data_cleaned[column] >= lower_bound) & (data_cleaned[column] <= upper_bound)]\n",
    "\n",
    "    return data_cleaned\n"
   ]
  },
  {
   "cell_type": "code",
   "execution_count": 49,
   "id": "311aa1fd",
   "metadata": {},
   "outputs": [],
   "source": [
    "#assign value to data_cleaned\n",
    "numerical_out2 = remove_outliers_iqr(numericals4, ['sqft_above','sqft_lot15','sqft_living15'])"
   ]
  },
  {
   "cell_type": "code",
   "execution_count": 50,
   "id": "214e4e22",
   "metadata": {},
   "outputs": [
    {
     "data": {
      "text/plain": [
       "(18858, 3)"
      ]
     },
     "execution_count": 50,
     "metadata": {},
     "output_type": "execute_result"
    }
   ],
   "source": [
    "#shape\n",
    "numerical_out2.shape"
   ]
  },
  {
   "cell_type": "code",
   "execution_count": 54,
   "id": "f4f9d931",
   "metadata": {},
   "outputs": [
    {
     "data": {
      "image/png": "[encoded data removed]",
      "text/plain": [
       "<Figure size 1000x1000 with 3 Axes>"
      ]
     },
     "metadata": {},
     "output_type": "display_data"
    }
   ],
   "source": [
    "fig, ax = plt.subplots(1, 3, figsize=(10, 10))\n",
    "for variable, subplot in zip(numerical_out2, ax.flatten()):\n",
    "    sns.boxplot(numerical_out2[variable], ax=subplot)"
   ]
  },
  {
   "cell_type": "code",
   "execution_count": 57,
   "id": "ea565625",
   "metadata": {},
   "outputs": [
    {
     "name": "stdout",
     "output_type": "stream",
     "text": [
      "sqft_above 0.8892609070647136\n",
      "sqft_lot15 0.4406006363237337\n",
      "sqft_living15 0.7228417883040662\n"
     ]
    }
   ],
   "source": [
    "#check skewness for all the numerical variables\n",
    "for column in numerical_out2.columns:\n",
    "    print(column, check_skewness(numerical_out2, column))\n",
    "\n"
   ]
  },
  {
   "cell_type": "code",
   "execution_count": 58,
   "id": "415f59b7",
   "metadata": {},
   "outputs": [
    {
     "data": {
      "text/html": [
       "<div>\n",
       "<style scoped>\n",
       "    .dataframe tbody tr th:only-of-type {\n",
       "        vertical-align: middle;\n",
       "    }\n",
       "\n",
       "    .dataframe tbody tr th {\n",
       "        vertical-align: top;\n",
       "    }\n",
       "\n",
       "    .dataframe thead th {\n",
       "        text-align: right;\n",
       "    }\n",
       "</style>\n",
       "<table border=\"1\" class=\"dataframe\">\n",
       "  <thead>\n",
       "    <tr style=\"text-align: right;\">\n",
       "      <th></th>\n",
       "      <th>id</th>\n",
       "      <th>sqft_above</th>\n",
       "      <th>sqft_lot15</th>\n",
       "      <th>sqft_living15</th>\n",
       "    </tr>\n",
       "  </thead>\n",
       "  <tbody>\n",
       "    <tr>\n",
       "      <th>0</th>\n",
       "      <td>7129300520</td>\n",
       "      <td>1180</td>\n",
       "      <td>5650</td>\n",
       "      <td>1340</td>\n",
       "    </tr>\n",
       "    <tr>\n",
       "      <th>1</th>\n",
       "      <td>6414100192</td>\n",
       "      <td>2170</td>\n",
       "      <td>7639</td>\n",
       "      <td>1690</td>\n",
       "    </tr>\n",
       "    <tr>\n",
       "      <th>2</th>\n",
       "      <td>5631500400</td>\n",
       "      <td>770</td>\n",
       "      <td>8062</td>\n",
       "      <td>2720</td>\n",
       "    </tr>\n",
       "    <tr>\n",
       "      <th>3</th>\n",
       "      <td>2487200875</td>\n",
       "      <td>1050</td>\n",
       "      <td>5000</td>\n",
       "      <td>1360</td>\n",
       "    </tr>\n",
       "    <tr>\n",
       "      <th>4</th>\n",
       "      <td>1954400510</td>\n",
       "      <td>1680</td>\n",
       "      <td>7503</td>\n",
       "      <td>1800</td>\n",
       "    </tr>\n",
       "    <tr>\n",
       "      <th>...</th>\n",
       "      <td>...</td>\n",
       "      <td>...</td>\n",
       "      <td>...</td>\n",
       "      <td>...</td>\n",
       "    </tr>\n",
       "    <tr>\n",
       "      <th>21592</th>\n",
       "      <td>263000018</td>\n",
       "      <td>1530</td>\n",
       "      <td>1509</td>\n",
       "      <td>1530</td>\n",
       "    </tr>\n",
       "    <tr>\n",
       "      <th>21593</th>\n",
       "      <td>6600060120</td>\n",
       "      <td>2310</td>\n",
       "      <td>7200</td>\n",
       "      <td>1830</td>\n",
       "    </tr>\n",
       "    <tr>\n",
       "      <th>21594</th>\n",
       "      <td>1523300141</td>\n",
       "      <td>1020</td>\n",
       "      <td>2007</td>\n",
       "      <td>1020</td>\n",
       "    </tr>\n",
       "    <tr>\n",
       "      <th>21595</th>\n",
       "      <td>291310100</td>\n",
       "      <td>1600</td>\n",
       "      <td>1287</td>\n",
       "      <td>1410</td>\n",
       "    </tr>\n",
       "    <tr>\n",
       "      <th>21596</th>\n",
       "      <td>1523300157</td>\n",
       "      <td>1020</td>\n",
       "      <td>1357</td>\n",
       "      <td>1020</td>\n",
       "    </tr>\n",
       "  </tbody>\n",
       "</table>\n",
       "<p>21597 rows × 4 columns</p>\n",
       "</div>"
      ],
      "text/plain": [
       "               id  sqft_above  sqft_lot15  sqft_living15\n",
       "0      7129300520        1180        5650           1340\n",
       "1      6414100192        2170        7639           1690\n",
       "2      5631500400         770        8062           2720\n",
       "3      2487200875        1050        5000           1360\n",
       "4      1954400510        1680        7503           1800\n",
       "...           ...         ...         ...            ...\n",
       "21592   263000018        1530        1509           1530\n",
       "21593  6600060120        2310        7200           1830\n",
       "21594  1523300141        1020        2007           1020\n",
       "21595   291310100        1600        1287           1410\n",
       "21596  1523300157        1020        1357           1020\n",
       "\n",
       "[21597 rows x 4 columns]"
      ]
     },
     "metadata": {},
     "output_type": "display_data"
    }
   ],
   "source": [
    "#concat numericalscopy and numerical_out2 to get the id column back\n",
    "numericalscopy.shape\n",
    "display(numericalscopy)"
   ]
  },
  {
   "cell_type": "code",
   "execution_count": 59,
   "id": "0f5b5e3c",
   "metadata": {},
   "outputs": [
    {
     "data": {
      "text/html": [
       "<div>\n",
       "<style scoped>\n",
       "    .dataframe tbody tr th:only-of-type {\n",
       "        vertical-align: middle;\n",
       "    }\n",
       "\n",
       "    .dataframe tbody tr th {\n",
       "        vertical-align: top;\n",
       "    }\n",
       "\n",
       "    .dataframe thead th {\n",
       "        text-align: right;\n",
       "    }\n",
       "</style>\n",
       "<table border=\"1\" class=\"dataframe\">\n",
       "  <thead>\n",
       "    <tr style=\"text-align: right;\">\n",
       "      <th></th>\n",
       "      <th>sqft_above</th>\n",
       "      <th>sqft_lot15</th>\n",
       "      <th>sqft_living15</th>\n",
       "    </tr>\n",
       "  </thead>\n",
       "  <tbody>\n",
       "    <tr>\n",
       "      <th>0</th>\n",
       "      <td>1180</td>\n",
       "      <td>5650</td>\n",
       "      <td>1340</td>\n",
       "    </tr>\n",
       "    <tr>\n",
       "      <th>1</th>\n",
       "      <td>2170</td>\n",
       "      <td>7639</td>\n",
       "      <td>1690</td>\n",
       "    </tr>\n",
       "    <tr>\n",
       "      <th>2</th>\n",
       "      <td>770</td>\n",
       "      <td>8062</td>\n",
       "      <td>2720</td>\n",
       "    </tr>\n",
       "    <tr>\n",
       "      <th>3</th>\n",
       "      <td>1050</td>\n",
       "      <td>5000</td>\n",
       "      <td>1360</td>\n",
       "    </tr>\n",
       "    <tr>\n",
       "      <th>4</th>\n",
       "      <td>1680</td>\n",
       "      <td>7503</td>\n",
       "      <td>1800</td>\n",
       "    </tr>\n",
       "    <tr>\n",
       "      <th>...</th>\n",
       "      <td>...</td>\n",
       "      <td>...</td>\n",
       "      <td>...</td>\n",
       "    </tr>\n",
       "    <tr>\n",
       "      <th>21592</th>\n",
       "      <td>1530</td>\n",
       "      <td>1509</td>\n",
       "      <td>1530</td>\n",
       "    </tr>\n",
       "    <tr>\n",
       "      <th>21593</th>\n",
       "      <td>2310</td>\n",
       "      <td>7200</td>\n",
       "      <td>1830</td>\n",
       "    </tr>\n",
       "    <tr>\n",
       "      <th>21594</th>\n",
       "      <td>1020</td>\n",
       "      <td>2007</td>\n",
       "      <td>1020</td>\n",
       "    </tr>\n",
       "    <tr>\n",
       "      <th>21595</th>\n",
       "      <td>1600</td>\n",
       "      <td>1287</td>\n",
       "      <td>1410</td>\n",
       "    </tr>\n",
       "    <tr>\n",
       "      <th>21596</th>\n",
       "      <td>1020</td>\n",
       "      <td>1357</td>\n",
       "      <td>1020</td>\n",
       "    </tr>\n",
       "  </tbody>\n",
       "</table>\n",
       "<p>18858 rows × 3 columns</p>\n",
       "</div>"
      ],
      "text/plain": [
       "       sqft_above  sqft_lot15  sqft_living15\n",
       "0            1180        5650           1340\n",
       "1            2170        7639           1690\n",
       "2             770        8062           2720\n",
       "3            1050        5000           1360\n",
       "4            1680        7503           1800\n",
       "...           ...         ...            ...\n",
       "21592        1530        1509           1530\n",
       "21593        2310        7200           1830\n",
       "21594        1020        2007           1020\n",
       "21595        1600        1287           1410\n",
       "21596        1020        1357           1020\n",
       "\n",
       "[18858 rows x 3 columns]"
      ]
     },
     "metadata": {},
     "output_type": "display_data"
    }
   ],
   "source": [
    "numerical_out2.shape\n",
    "display(numerical_out2)"
   ]
  },
  {
   "cell_type": "markdown",
   "id": "54b31220",
   "metadata": {},
   "source": [
    "Second outlier removal method retained more rows than the second \n",
    "And both boxplots retain similar shape  "
   ]
  },
  {
   "cell_type": "code",
   "execution_count": 60,
   "id": "e8a85224",
   "metadata": {},
   "outputs": [],
   "source": [
    "#save the cleaned data\n",
    "numerical_out2.to_csv('../data/raw/numerical_no_outlier.csv', index=False)"
   ]
  },
  {
   "cell_type": "code",
   "execution_count": 61,
   "id": "0d9ac886",
   "metadata": {},
   "outputs": [],
   "source": [
    "#save categorical data\n",
    "categoricals.to_csv('../data/raw/categorical.csv', index=False)"
   ]
  },
  {
   "cell_type": "code",
   "execution_count": 62,
   "id": "679ef95a",
   "metadata": {},
   "outputs": [],
   "source": [
    "#save target data\n",
    "target.to_csv('../data/cleaned/target.csv', index=False)"
   ]
  },
  {
   "cell_type": "code",
   "execution_count": 63,
   "id": "0682024c",
   "metadata": {},
   "outputs": [],
   "source": [
    "#save numerical data\n",
    "numericals.to_csv('../data/raw/numerical.csv', index=False)"
   ]
  }
 ],
 "metadata": {
  "kernelspec": {
   "display_name": "Python 3 (ipykernel)",
   "language": "python",
   "name": "python3"
  },
  "language_info": {
   "codemirror_mode": {
    "name": "ipython",
    "version": 3
   },
   "file_extension": ".py",
   "mimetype": "text/x-python",
   "name": "python",
   "nbconvert_exporter": "python",
   "pygments_lexer": "ipython3",
   "version": "3.11.5"
  }
 },
 "nbformat": 4,
 "nbformat_minor": 5
}
