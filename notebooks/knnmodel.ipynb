{
 "cells": [
  {
   "cell_type": "code",
   "execution_count": 1,
   "metadata": {},
   "outputs": [
    {
     "name": "stdout",
     "output_type": "stream",
     "text": [
      "Collecting dtreeviz\n",
      "  Downloading dtreeviz-2.2.2-py3-none-any.whl.metadata (2.4 kB)\n",
      "Collecting graphviz>=0.9 (from dtreeviz)\n",
      "  Downloading graphviz-0.20.1-py3-none-any.whl (47 kB)\n",
      "     ---------------------------------------- 0.0/47.0 kB ? eta -:--:--\n",
      "     ---------------------------------------- 47.0/47.0 kB 1.2 MB/s eta 0:00:00\n",
      "Requirement already satisfied: pandas in c:\\users\\lenovo\\desktop\\ironhack\\week_9\\final_project\\projectenv\\lib\\site-packages (from dtreeviz) (2.1.1)\n",
      "Requirement already satisfied: numpy in c:\\users\\lenovo\\desktop\\ironhack\\week_9\\final_project\\projectenv\\lib\\site-packages (from dtreeviz) (1.26.0)\n",
      "Requirement already satisfied: scikit-learn in c:\\users\\lenovo\\desktop\\ironhack\\week_9\\final_project\\projectenv\\lib\\site-packages (from dtreeviz) (1.3.1)\n",
      "Requirement already satisfied: matplotlib in c:\\users\\lenovo\\desktop\\ironhack\\week_9\\final_project\\projectenv\\lib\\site-packages (from dtreeviz) (3.8.0)\n",
      "Collecting colour (from dtreeviz)\n",
      "  Downloading colour-0.1.5-py2.py3-none-any.whl (23 kB)\n",
      "Collecting pytest (from dtreeviz)\n",
      "  Downloading pytest-7.4.3-py3-none-any.whl.metadata (7.9 kB)\n",
      "Requirement already satisfied: contourpy>=1.0.1 in c:\\users\\lenovo\\desktop\\ironhack\\week_9\\final_project\\projectenv\\lib\\site-packages (from matplotlib->dtreeviz) (1.1.1)\n",
      "Requirement already satisfied: cycler>=0.10 in c:\\users\\lenovo\\desktop\\ironhack\\week_9\\final_project\\projectenv\\lib\\site-packages (from matplotlib->dtreeviz) (0.12.0)\n",
      "Requirement already satisfied: fonttools>=4.22.0 in c:\\users\\lenovo\\desktop\\ironhack\\week_9\\final_project\\projectenv\\lib\\site-packages (from matplotlib->dtreeviz) (4.43.0)\n",
      "Requirement already satisfied: kiwisolver>=1.0.1 in c:\\users\\lenovo\\desktop\\ironhack\\week_9\\final_project\\projectenv\\lib\\site-packages (from matplotlib->dtreeviz) (1.4.5)\n",
      "Requirement already satisfied: packaging>=20.0 in c:\\users\\lenovo\\desktop\\ironhack\\week_9\\final_project\\projectenv\\lib\\site-packages (from matplotlib->dtreeviz) (23.1)\n",
      "Requirement already satisfied: pillow>=6.2.0 in c:\\users\\lenovo\\desktop\\ironhack\\week_9\\final_project\\projectenv\\lib\\site-packages (from matplotlib->dtreeviz) (10.0.1)\n",
      "Requirement already satisfied: pyparsing>=2.3.1 in c:\\users\\lenovo\\desktop\\ironhack\\week_9\\final_project\\projectenv\\lib\\site-packages (from matplotlib->dtreeviz) (3.1.1)\n",
      "Requirement already satisfied: python-dateutil>=2.7 in c:\\users\\lenovo\\desktop\\ironhack\\week_9\\final_project\\projectenv\\lib\\site-packages (from matplotlib->dtreeviz) (2.8.2)\n",
      "Requirement already satisfied: pytz>=2020.1 in c:\\users\\lenovo\\desktop\\ironhack\\week_9\\final_project\\projectenv\\lib\\site-packages (from pandas->dtreeviz) (2023.3.post1)\n",
      "Requirement already satisfied: tzdata>=2022.1 in c:\\users\\lenovo\\desktop\\ironhack\\week_9\\final_project\\projectenv\\lib\\site-packages (from pandas->dtreeviz) (2023.3)\n",
      "Collecting iniconfig (from pytest->dtreeviz)\n",
      "  Downloading iniconfig-2.0.0-py3-none-any.whl (5.9 kB)\n",
      "Collecting pluggy<2.0,>=0.12 (from pytest->dtreeviz)\n",
      "  Downloading pluggy-1.3.0-py3-none-any.whl.metadata (4.3 kB)\n",
      "Requirement already satisfied: colorama in c:\\users\\lenovo\\desktop\\ironhack\\week_9\\final_project\\projectenv\\lib\\site-packages (from pytest->dtreeviz) (0.4.6)\n",
      "Requirement already satisfied: scipy>=1.5.0 in c:\\users\\lenovo\\desktop\\ironhack\\week_9\\final_project\\projectenv\\lib\\site-packages (from scikit-learn->dtreeviz) (1.11.3)\n",
      "Requirement already satisfied: joblib>=1.1.1 in c:\\users\\lenovo\\desktop\\ironhack\\week_9\\final_project\\projectenv\\lib\\site-packages (from scikit-learn->dtreeviz) (1.3.2)\n",
      "Requirement already satisfied: threadpoolctl>=2.0.0 in c:\\users\\lenovo\\desktop\\ironhack\\week_9\\final_project\\projectenv\\lib\\site-packages (from scikit-learn->dtreeviz) (3.2.0)\n",
      "Requirement already satisfied: six>=1.5 in c:\\users\\lenovo\\desktop\\ironhack\\week_9\\final_project\\projectenv\\lib\\site-packages (from python-dateutil>=2.7->matplotlib->dtreeviz) (1.16.0)\n",
      "Downloading dtreeviz-2.2.2-py3-none-any.whl (91 kB)\n",
      "   ---------------------------------------- 0.0/91.8 kB ? eta -:--:--\n",
      "   ---------------------------------------- 91.8/91.8 kB 5.1 MB/s eta 0:00:00\n",
      "Downloading pytest-7.4.3-py3-none-any.whl (325 kB)\n",
      "   ---------------------------------------- 0.0/325.1 kB ? eta -:--:--\n",
      "   ---------------------------------------  317.4/325.1 kB 6.7 MB/s eta 0:00:01\n",
      "   ---------------------------------------- 325.1/325.1 kB 3.4 MB/s eta 0:00:00\n",
      "Downloading pluggy-1.3.0-py3-none-any.whl (18 kB)\n",
      "Installing collected packages: colour, pluggy, iniconfig, graphviz, pytest, dtreeviz\n",
      "Successfully installed colour-0.1.5 dtreeviz-2.2.2 graphviz-0.20.1 iniconfig-2.0.0 pluggy-1.3.0 pytest-7.4.3\n"
     ]
    }
   ],
   "source": [
    "!pip install dtreeviz"
   ]
  },
  {
   "cell_type": "code",
   "execution_count": null,
   "metadata": {},
   "outputs": [],
   "source": [
    "import pandas as pd\n",
    "from sklearn.datasets import fetch_california_housing\n",
    "from sklearn.model_selection import train_test_split\n",
    "from sklearn.tree import DecisionTreeRegressor\n",
    "import matplotlib.pyplot as plt\n",
    "import dtreeviz\n",
    "import graphviz\n",
    "import graphviz.backend as be\n",
    "from IPython.display import Image, display_svg, SVG\n",
    "import warnings\n",
    "warnings.filterwarnings( \"ignore\", module = \"matplotlib\\..*\" )"
   ]
  }
 ],
 "metadata": {
  "kernelspec": {
   "display_name": "projectenv",
   "language": "python",
   "name": "python3"
  },
  "language_info": {
   "codemirror_mode": {
    "name": "ipython",
    "version": 3
   },
   "file_extension": ".py",
   "mimetype": "text/x-python",
   "name": "python",
   "nbconvert_exporter": "python",
   "pygments_lexer": "ipython3",
   "version": "3.11.5"
  }
 },
 "nbformat": 4,
 "nbformat_minor": 2
}
